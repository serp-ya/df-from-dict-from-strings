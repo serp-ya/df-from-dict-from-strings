{
 "cells": [
  {
   "cell_type": "code",
   "execution_count": 2,
   "metadata": {},
   "outputs": [],
   "source": [
    "import pandas as pd\n",
    "\n",
    "raw_data = [\n",
    "  'Марка: BP; Производитель: BP EUROPA; Кол-во: 0; Бренд: BP',\n",
    "  'Марка: CASTROL; Производитель: BP EUROPA; Кол-во: 0; Бренд: CASTROL',\n",
    "  'Производитель: UAB \"SCT LIBENLIBEN\" EUROPA; Кол-во: 200 ШТ; Бренд: MANNOL',\n",
    "]"
   ]
  },
  {
   "cell_type": "code",
   "execution_count": 9,
   "metadata": {},
   "outputs": [],
   "source": [
    "def prepare_data(raw_data):\n",
    "    splited_data = list(\n",
    "        map(lambda row: row.split(';'), raw_data)\n",
    "    )\n",
    "\n",
    "    result = []\n",
    "\n",
    "    for row in splited_data:\n",
    "        prepared_row = {}\n",
    "\n",
    "        for cell in row:\n",
    "            key, value = cell.split(':')\n",
    "            prepared_row.setdefault(key.strip(), value.strip())\n",
    "\n",
    "        result.append(prepared_row)\n",
    "\n",
    "    return result\n",
    "\n",
    "prepared_data = prepare_data(raw_data)"
   ]
  },
  {
   "cell_type": "code",
   "execution_count": 10,
   "metadata": {},
   "outputs": [
    {
     "data": {
      "text/html": [
       "<div>\n",
       "<style scoped>\n",
       "    .dataframe tbody tr th:only-of-type {\n",
       "        vertical-align: middle;\n",
       "    }\n",
       "\n",
       "    .dataframe tbody tr th {\n",
       "        vertical-align: top;\n",
       "    }\n",
       "\n",
       "    .dataframe thead th {\n",
       "        text-align: right;\n",
       "    }\n",
       "</style>\n",
       "<table border=\"1\" class=\"dataframe\">\n",
       "  <thead>\n",
       "    <tr style=\"text-align: right;\">\n",
       "      <th></th>\n",
       "      <th>Марка</th>\n",
       "      <th>Производитель</th>\n",
       "      <th>Кол-во</th>\n",
       "      <th>Бренд</th>\n",
       "    </tr>\n",
       "  </thead>\n",
       "  <tbody>\n",
       "    <tr>\n",
       "      <td>0</td>\n",
       "      <td>BP</td>\n",
       "      <td>BP EUROPA</td>\n",
       "      <td>0</td>\n",
       "      <td>BP</td>\n",
       "    </tr>\n",
       "    <tr>\n",
       "      <td>1</td>\n",
       "      <td>CASTROL</td>\n",
       "      <td>BP EUROPA</td>\n",
       "      <td>0</td>\n",
       "      <td>CASTROL</td>\n",
       "    </tr>\n",
       "    <tr>\n",
       "      <td>2</td>\n",
       "      <td>NaN</td>\n",
       "      <td>UAB \"SCT LIBENLIBEN\" EUROPA</td>\n",
       "      <td>200 ШТ</td>\n",
       "      <td>MANNOL</td>\n",
       "    </tr>\n",
       "  </tbody>\n",
       "</table>\n",
       "</div>"
      ],
      "text/plain": [
       "     Марка                Производитель  Кол-во    Бренд\n",
       "0       BP                    BP EUROPA       0       BP\n",
       "1  CASTROL                    BP EUROPA       0  CASTROL\n",
       "2      NaN  UAB \"SCT LIBENLIBEN\" EUROPA  200 ШТ   MANNOL"
      ]
     },
     "execution_count": 10,
     "metadata": {},
     "output_type": "execute_result"
    }
   ],
   "source": [
    "pd.DataFrame.from_dict(prepared_data)"
   ]
  },
  {
   "cell_type": "code",
   "execution_count": null,
   "metadata": {},
   "outputs": [],
   "source": []
  }
 ],
 "metadata": {
  "kernelspec": {
   "display_name": "Python 3",
   "language": "python",
   "name": "python3"
  },
  "language_info": {
   "codemirror_mode": {
    "name": "ipython",
    "version": 3
   },
   "file_extension": ".py",
   "mimetype": "text/x-python",
   "name": "python",
   "nbconvert_exporter": "python",
   "pygments_lexer": "ipython3",
   "version": "3.7.4"
  }
 },
 "nbformat": 4,
 "nbformat_minor": 2
}
